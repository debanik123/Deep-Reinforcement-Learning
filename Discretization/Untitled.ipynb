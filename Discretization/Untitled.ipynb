{
 "cells": [
  {
   "cell_type": "code",
   "execution_count": 1,
   "metadata": {},
   "outputs": [
    {
     "name": "stderr",
     "output_type": "stream",
     "text": [
      "C:\\Users\\Debanik Roy\\Anaconda3\\lib\\importlib\\_bootstrap.py:219: RuntimeWarning: numpy.ufunc size changed, may indicate binary incompatibility. Expected 192 from C header, got 216 from PyObject\n",
      "  return f(*args, **kwds)\n"
     ]
    }
   ],
   "source": [
    "import sys\n",
    "import gym\n",
    "import numpy as np\n",
    "\n",
    "import pandas as pd \n",
    "import matplotlib.pyplot as plt\n",
    "\n",
    "%matplotlib inline \n",
    "plt.style.use('ggplot')\n",
    "np.set_printoptions(precision=3, linewidth=120)"
   ]
  },
  {
   "cell_type": "code",
   "execution_count": 2,
   "metadata": {},
   "outputs": [],
   "source": [
    "env = gym.make('MountainCar-v0')\n",
    "env.seed(500);"
   ]
  },
  {
   "cell_type": "code",
   "execution_count": 3,
   "metadata": {},
   "outputs": [
    {
     "name": "stdout",
     "output_type": "stream",
     "text": [
      "observation_space Box(2,)\n",
      "observation_space.high [0.6  0.07]\n",
      "observation_space.low [-1.2  -0.07]\n"
     ]
    }
   ],
   "source": [
    "print('observation_space',env.observation_space)\n",
    "print('observation_space.high', env.observation_space.high)\n",
    "print('observation_space.low', env.observation_space.low)"
   ]
  },
  {
   "cell_type": "code",
   "execution_count": 5,
   "metadata": {},
   "outputs": [
    {
     "name": "stdout",
     "output_type": "stream",
     "text": [
      "State space samples:\n",
      "[[-0.486  0.066]\n",
      " [-0.021 -0.052]\n",
      " [-0.282  0.061]\n",
      " [-0.604 -0.037]\n",
      " [-0.221  0.048]\n",
      " [ 0.02   0.033]\n",
      " [-0.394  0.057]\n",
      " [-0.249 -0.019]\n",
      " [ 0.397  0.035]\n",
      " [ 0.395  0.037]]\n"
     ]
    }
   ],
   "source": [
    "print('State space samples:')\n",
    "print(np.array([env.observation_space.sample() for i in range(10)]))"
   ]
  },
  {
   "cell_type": "code",
   "execution_count": 6,
   "metadata": {},
   "outputs": [
    {
     "name": "stdout",
     "output_type": "stream",
     "text": [
      "Action_space: Discrete(3)\n",
      "Action space samples\n",
      "[1 0 0 0 0 0 2 0 1 2]\n"
     ]
    }
   ],
   "source": [
    "print('Action_space:', env.action_space)\n",
    "\n",
    "print('Action space samples')\n",
    "print(np.array([env.action_space.sample() for i in range(10)]))"
   ]
  },
  {
   "cell_type": "code",
   "execution_count": 7,
   "metadata": {},
   "outputs": [],
   "source": [
    "def create_uniform_grid(low, high, bins=(10,10)):\n",
    "    \n",
    "    grid = [np.linspace(low[dim], high[dim], bins[dim] + 1)[1:-1] for dim in range(len(bins))]\n",
    "    for l, h, b, splits in zip(low, high, bins, grid):\n",
    "        print(' [{}, {}] / {} => {}'.format(l, h, b, splits))\n",
    "    return grid"
   ]
  },
  {
   "cell_type": "code",
   "execution_count": 8,
   "metadata": {},
   "outputs": [],
   "source": [
    "def discretize(sample, grid):\n",
    "    return list(int(np.digitize(s,g)) for s,g in zip(sample, grid))"
   ]
  },
  {
   "cell_type": "code",
   "execution_count": 10,
   "metadata": {},
   "outputs": [
    {
     "name": "stdout",
     "output_type": "stream",
     "text": [
      " [-1.0, 1.0] / 10 => [-0.8 -0.6 -0.4 -0.2  0.   0.2  0.4  0.6  0.8]\n",
      " [-5.0, 5.0] / 10 => [-4. -3. -2. -1.  0.  1.  2.  3.  4.]\n"
     ]
    }
   ],
   "source": [
    "grid = create_uniform_grid([-1.0, -5.0], [1.0, 5.0])\n",
    "sample = np.array([[-1.0, -5.0],\n",
    "                  [-0.81, -4.1],\n",
    "                  [-0.8, -0.2],\n",
    "                  [-0.7, -0.5],\n",
    "                  [-0.6, -0.9],\n",
    "                  [-0.7, -0.5],\n",
    "                  [-0.5, -0.4],\n",
    "                  [-0.6, -0.3]])"
   ]
  },
  {
   "cell_type": "code",
   "execution_count": null,
   "metadata": {},
   "outputs": [],
   "source": [
    "def visualize_samples(samples, discretized_samples, grid, low=None, high=None):\n",
    "    "
   ]
  }
 ],
 "metadata": {
  "kernelspec": {
   "display_name": "Python 3",
   "language": "python",
   "name": "python3"
  },
  "language_info": {
   "codemirror_mode": {
    "name": "ipython",
    "version": 3
   },
   "file_extension": ".py",
   "mimetype": "text/x-python",
   "name": "python",
   "nbconvert_exporter": "python",
   "pygments_lexer": "ipython3",
   "version": "3.7.4"
  }
 },
 "nbformat": 4,
 "nbformat_minor": 2
}
