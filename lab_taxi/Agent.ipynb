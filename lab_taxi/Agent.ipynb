{
 "cells": [
  {
   "cell_type": "code",
   "execution_count": 1,
   "metadata": {},
   "outputs": [],
   "source": [
    "import numpy as np\n",
    "from collections import defaultdict\n",
    "\n"
   ]
  },
  {
   "cell_type": "code",
   "execution_count": null,
   "metadata": {},
   "outputs": [],
   "source": [
    "class Agent:\n",
    "    \n",
    "    def __init__(self, nA=6):\n",
    "        self.nA = nA\n",
    "        self.Q = defaultdict(lambda: np.zeros(self.nA))\n",
    "        self.alpha = 0.3\n",
    "        self.gamma = 1\n",
    "        \n",
    "    def select_action(self, state, epsilon):\n",
    "        action_max = np.argmax(self.Q[state])\n",
    "        prob = np.ones(self.nA)*epsilon/self.nA\n",
    "        prob[action_max] = 1 - epsilon+epsilon/self.nA\n",
    "        return np.random.choice(a = np.arange(self.nA), p=prob)\n",
    "    \n",
    "    def expected_reward(self, next_state, epsilon):\n",
    "        prob = np.ones(self.nA) * epsilon / self.nA\n",
    "        action_max = np.argmax(self.Q[next_state])\n",
    "        prob[action_max] = 1- epsilon + epsilon/self.nA\n",
    "        expected = 0\n",
    "        \n",
    "        for a, prob in enumerate(prob):\n",
    "            expected += prob * self.Q[next_state][a]\n",
    "        return expected\n",
    "    \n",
    "    def step(self, state, action, reward, next_state, done, epsilon):\n",
    "        expected = self.expected_reward(next_state, epsilon)\n",
    "        self.Q[state][action] = self.Q[state][action] + self.alpha * (reward + self.gamma * expected - self.Q[state][action])\n",
    "        #self.Q[state][action] += 1\n",
    "        "
   ]
  }
 ],
 "metadata": {
  "kernelspec": {
   "display_name": "Python 3",
   "language": "python",
   "name": "python3"
  },
  "language_info": {
   "codemirror_mode": {
    "name": "ipython",
    "version": 3
   },
   "file_extension": ".py",
   "mimetype": "text/x-python",
   "name": "python",
   "nbconvert_exporter": "python",
   "pygments_lexer": "ipython3",
   "version": "3.7.4"
  }
 },
 "nbformat": 4,
 "nbformat_minor": 2
}
